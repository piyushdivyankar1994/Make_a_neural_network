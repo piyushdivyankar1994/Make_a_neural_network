{
 "cells": [
  {
   "cell_type": "code",
   "execution_count": 91,
   "metadata": {
    "collapsed": true
   },
   "outputs": [],
   "source": [
    "import numpy as np\n",
    "import pandas as pd\n",
    "def __sigmoid(x):\n",
    "    return 1 / (1 + np.exp(-x))\n",
    "\n",
    "def __sigmoid_derivative(x):\n",
    "    return x * (1 - x)\n",
    "\n",
    "sigmoid = np.vectorize(__sigmoid)\n",
    "sigmoid_derivative = np.vectorize(__sigmoid_derivative)"
   ]
  },
  {
   "cell_type": "code",
   "execution_count": 63,
   "metadata": {
    "collapsed": true
   },
   "outputs": [
    {
     "name": "stdout",
     "output_type": "stream",
     "text": [
      "[[ 0.40170398]\n",
      " [ 0.8772055 ]]\n",
      "0.930855576631\n",
      "[array([[ 0.72967525],\n",
      "       [ 0.06249265],\n",
      "       [ 0.82582933]]), array([[ 0.57602085],\n",
      "       [ 0.7245981 ],\n",
      "       [ 0.64189508],\n",
      "       [ 0.61106487],\n",
      "       [ 0.78928519]]), array([[ 0.87495383],\n",
      "       [ 0.87767752],\n",
      "       [ 0.80371264],\n",
      "       [ 0.80790847],\n",
      "       [ 0.80546692],\n",
      "       [ 0.67316175]])]\n",
      "[array([[ 0.38270781,  0.1933596 ,  0.01295422],\n",
      "       [ 0.33239316,  0.66653986,  0.82355588],\n",
      "       [ 0.45320545,  0.55195365,  0.25255304],\n",
      "       [ 0.19745032,  0.96500988,  0.2973515 ],\n",
      "       [ 0.66871977,  0.81527884,  1.00096141]]), array([[ 0.53260336,  0.93998042,  0.8407184 ,  0.00509709,  0.42662896],\n",
      "       [ 0.82639294,  0.81481989,  0.35982487,  0.04441912,  0.71551181],\n",
      "       [ 0.43633937,  0.46139155,  0.22299753,  0.15814939,  0.71785242],\n",
      "       [ 0.20671453,  0.72891256,  0.20735412,  0.11420218,  0.7190355 ],\n",
      "       [ 0.07804779,  0.07953498,  0.71886799,  0.81509163,  0.42886683],\n",
      "       [ 0.01973633,  0.01168378,  0.252624  ,  0.60046449,  0.22169261]]), array([[ 0.99030006,  0.82434917,  0.53563305,  0.53317043,  0.11405239,\n",
      "         0.03770915],\n",
      "       [ 0.4432359 ,  0.49401142,  0.60007922,  0.55423022,  0.91070274,\n",
      "         0.36776733]])]\n"
     ]
    }
   ],
   "source": [
    "neural_vector = [3, 5, 6, 2]\n",
    "inputs = np.random.rand(100,3)\n",
    "target = np.random.rand(100, 2)\n",
    "weights = []\n",
    "alpha = 0.01\n",
    "# Weight initialization\n",
    "for i in range(len(neural_vector)-1):\n",
    "    weights.append(np.random.rand(neural_vector[i+1], neural_vector[i]))\n",
    "\n",
    "for i, t in zip(inputs[:20], target[:1]):\n",
    "    # Forward pass\n",
    "    i = np.transpose(np.array([i]))\n",
    "    t = np.transpose(np.array([t]))  \n",
    "    xi = [i]\n",
    "    i = 0\n",
    "    for i, w in enumerate(weights):\n",
    "        xi.append(sigmoid(np.matmul(w,xi[i])))\n",
    "    print xi[-1]-t\n",
    "    error = (np.linalg.norm(xi[-1]-t))**2\n",
    "    print error\n",
    "    print xi[:-1]\n",
    "    # Backward pass\n",
    "    #delta\n",
    "    delta = [None]*len(weights)\n",
    "    delta[-1] =  np.multiply((xi[-1]-t) ,sigmoid_derivative(np.matmul(weights[-1],xi[-2])))\n",
    "    i = len(weights) - 2\n",
    "    while i >= 0:\n",
    "        delta[i] = np.multiply(\n",
    "                        np.matmul(np.transpose(weights[i+1]), delta[i+1]), \n",
    "                 sigmoid_derivative(np.matmul(weights[i], xi[i])))\n",
    "        #print delta[i].shape\n",
    "        #print delta[i]\n",
    "        i -= 1\n",
    "    W = []\n",
    "    for w, d, x in zip(weights, delta, xi[:-1]):\n",
    "        w = w - np.multiply(alpha * w, np.matmul(d, np.transpose(x)))\n",
    "        #print w.shape\n",
    "        #print w\n",
    "        W.append(w)\n",
    "    weights = W\n",
    "print weights"
   ]
  },
  {
   "cell_type": "code",
   "execution_count": 81,
   "metadata": {},
   "outputs": [],
   "source": [
    "class BackpropogatingNet(object):\n",
    "    def __init__(self, n_inputs, n_outputs, hidden_vector = [], learn_rate=0.01):\n",
    "        self.neural_vector = [n_inputs] + hidden_vector + [n_outputs]\n",
    "        self.learn_rate = learn_rate\n",
    "        self.inputs = n_inputs\n",
    "        self.ouptuts = n_outputs\n",
    "        self.weights = []\n",
    "        self.sigmoid = np.vectorize(self.__sigmoid)\n",
    "        self.sigmoid_derivative = np.vectorize(self.__sigmoid_derivative)\n",
    "\n",
    "    def __sigmoid(self, x):\n",
    "        return 1 / (1 + np.exp(-x))\n",
    "\n",
    "    def __sigmoid_derivative(self, x):\n",
    "        return x * (1 - x)\n",
    "    \n",
    "    def fit(self, inputs, target):\n",
    "         # Weight initialization\n",
    "        for i in range(len(self.neural_vector)-1):\n",
    "            self.weights.append(np.random.rand(self.neural_vector[i+1], self.neural_vector[i]))\n",
    "\n",
    "        for i, t in zip(inputs[:20], target[:20]):\n",
    "            # Forward pass\n",
    "            i = np.transpose(np.array([i]))\n",
    "            t = np.transpose(np.array([t]))  \n",
    "            xi = [i]\n",
    "            i = 0\n",
    "            for i, w in enumerate(self.weights):\n",
    "                xi.append(sigmoid(np.matmul(w,xi[i])))\n",
    "            error = (np.linalg.norm(xi[-1]-t))**2\n",
    "            # Backward pass\n",
    "            #delta\n",
    "            delta = [None]*len(self.weights)\n",
    "            delta[-1] =  np.multiply((xi[-1]-t) ,sigmoid_derivative(np.matmul(self.weights[-1],xi[-2])))\n",
    "            i = len(self.weights) - 2\n",
    "            while i >= 0:\n",
    "                delta[i] = np.multiply(\n",
    "                                np.matmul(np.transpose(self.weights[i+1]), delta[i+1]), \n",
    "                         sigmoid_derivative(np.matmul(self.weights[i], xi[i])))\n",
    "                #print delta[i].shape\n",
    "                #print delta[i]\n",
    "                i -= 1\n",
    "            W = []\n",
    "            for w, d, x in zip(self.weights, delta, xi[:-1]):\n",
    "                w = w - np.multiply(alpha * w, np.matmul(d, np.transpose(x)))\n",
    "                #print w.shape\n",
    "                #print w\n",
    "                W.append(w)\n",
    "            self.weights = W\n",
    "    \n",
    "    def test(self, test_input, test_output):\n",
    "        print self.weights\n",
    "        if self.weights == []:\n",
    "            print \"Fit data first\"\n",
    "            return\n",
    "        \n",
    "        error = 0 \n",
    "        for i , t in zip(test_input, test_output):\n",
    "            out = np.transpose(np.array(i))\n",
    "            for w in self.weights:\n",
    "                out = np.matmul(w, out)\n",
    "            error += np.linalg.norm(out)\n",
    "        \n",
    "        return error"
   ]
  },
  {
   "cell_type": "code",
   "execution_count": 90,
   "metadata": {},
   "outputs": [
    {
     "name": "stdout",
     "output_type": "stream",
     "text": [
      "[array([[ 0.90501148,  0.18830479,  0.30351878],\n",
      "       [ 0.07957493,  0.07979527,  0.57511313],\n",
      "       [ 0.67394161,  0.62208582,  0.98388961],\n",
      "       [ 1.06869128,  1.02285411,  0.20859163],\n",
      "       [ 0.98643624,  0.62836412,  1.27814824]]), array([[ 0.24337889,  0.1531382 ,  0.2199308 ,  0.4442082 ,  0.59807829],\n",
      "       [ 0.07169012,  0.1153292 ,  0.68376174,  0.19102848,  0.47272501],\n",
      "       [ 0.80134185,  0.28872497,  0.20090574,  0.56836279,  0.11276002],\n",
      "       [ 0.06913956,  0.7839377 ,  0.05833832,  0.85719938,  0.02691005],\n",
      "       [ 0.61446786,  0.00715743,  0.63378979,  0.19221442,  0.23621475],\n",
      "       [ 0.31207776,  0.4847289 ,  0.24794059,  0.3999236 ,  0.45666239]]), array([[ 1.74195219,  0.92993365,  0.08029389,  0.2952518 ,  1.64820007,\n",
      "         1.20338963],\n",
      "       [ 0.13347536,  0.8604331 ,  0.34566191,  0.63521552,  0.36254683,\n",
      "         0.3482771 ]])]\n",
      "1133.7953873\n"
     ]
    }
   ],
   "source": [
    "neural_vector = [5, 6]\n",
    "inputs = np.random.rand(100,3)\n",
    "target = np.random.rand(100, 2)\n",
    "\n",
    "test_x = np.random.rand(100,3)\n",
    "test_y = np.random.rand(100,2)\n",
    "bn = BackpropogatingNet(3, 2, neural_vector)\n",
    "bn.fit(inputs, target)\n",
    "#print bn.weights\n",
    "print bn.test(test_x, test_y)"
   ]
  },
  {
   "cell_type": "code",
   "execution_count": 139,
   "metadata": {},
   "outputs": [
    {
     "name": "stdout",
     "output_type": "stream",
     "text": [
      "[array([[        nan,         nan,         nan,         nan],\n",
      "       [        nan,         nan,         nan,         nan],\n",
      "       [ 0.04777766,  0.15091219,  0.09511284,  0.89430877]])]\n"
     ]
    },
    {
     "data": {
      "text/plain": [
       "nan"
      ]
     },
     "execution_count": 139,
     "metadata": {},
     "output_type": "execute_result"
    }
   ],
   "source": [
    "# Testing this on Iris flower dataset. \n",
    "df = pd.read_csv('Iris.csv')\n",
    "df = df.sample(frac=1)\n",
    "species = set(df['Species'].values)\n",
    "mapping = {}\n",
    "for s, i in zip(species, range(len(species))):\n",
    "    mapping[s] = i\n",
    "\n",
    "df_t = pd.get_dummies(df)\n",
    "\n",
    "inp = np.array(df_t[['SepalLengthCm', 'SepalWidthCm', 'PetalLengthCm', 'PetalWidthCm']])\n",
    "out = np.array(df_t[['Species_Iris-versicolor','Species_Iris-setosa', 'Species_Iris-virginica']])\n",
    "\n",
    "iris_net  = BackpropogatingNet(4, 3, [], learn_rate=0.001)\n",
    "iris_net.fit(inp[:120], out[:120])\n",
    "iris_net.test(inp[120:], out[120:])"
   ]
  }
 ],
 "metadata": {
  "kernelspec": {
   "display_name": "Python 2",
   "language": "python",
   "name": "python2"
  },
  "language_info": {
   "codemirror_mode": {
    "name": "ipython",
    "version": 2
   },
   "file_extension": ".py",
   "mimetype": "text/x-python",
   "name": "python",
   "nbconvert_exporter": "python",
   "pygments_lexer": "ipython2",
   "version": "2.7.12"
  }
 },
 "nbformat": 4,
 "nbformat_minor": 2
}
